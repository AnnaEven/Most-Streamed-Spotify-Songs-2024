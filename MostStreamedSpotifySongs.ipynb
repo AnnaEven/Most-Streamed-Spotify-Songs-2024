{
 "cells": [
  {
   "cell_type": "code",
   "execution_count": 1,
   "metadata": {},
   "outputs": [
    {
     "name": "stdout",
     "output_type": "stream",
     "text": [
      "                        Track                    Album Name          Artist  \\\n",
      "0         MILLION DOLLAR BABY  Million Dollar Baby - Single   Tommy Richman   \n",
      "1                 Not Like Us                   Not Like Us  Kendrick Lamar   \n",
      "2  i like the way you kiss me    I like the way you kiss me         Artemas   \n",
      "3                 Lovin On Me                   Lovin On Me     Jack Harlow   \n",
      "4  BAND4BAND (feat. Lil Baby)    BAND4BAND (feat. Lil Baby)     Central Cee   \n",
      "\n",
      "  Release Date  Spotify Streams  Spotify Playlist Reach  Spotify Popularity  \\\n",
      "0    4/26/2024        390470936             196631588.0                92.0   \n",
      "1   05/04/2024        323703884             174597137.0                92.0   \n",
      "2    3/19/2024        601309283             211607669.0                92.0   \n",
      "3   11/10/2023        670665438             175421034.0                83.0   \n",
      "4    5/23/2024         90676573             184199419.0                86.0   \n",
      "\n",
      "   YouTube Views  TikTok Posts  TikTok Views  AirPlay Spins  SiriusXM Spins  \\\n",
      "0     84274754.0     5767700.0  5.332282e+09        40975.0           684.0   \n",
      "1    116347040.0      674700.0  2.083390e+08        40778.0             3.0   \n",
      "2    122599116.0     3025400.0  3.369121e+09        74333.0           536.0   \n",
      "3    131148091.0     4202367.0  2.938687e+09       522042.0          4654.0   \n",
      "4     32735244.0      325800.0  9.746562e+08         3823.0           117.0   \n",
      "\n",
      "   Pandora Streams  Soundcloud Streams  Shazam Counts  \n",
      "0       18004655.0           4818457.0      2669262.0  \n",
      "1        7780028.0           6623075.0      1118279.0  \n",
      "2        5022621.0           7208651.0      5285340.0  \n",
      "3      138529362.0           9438601.0      4517131.0  \n",
      "4        1005626.0           3679709.0       666302.0  \n",
      "Track                      object\n",
      "Album Name                 object\n",
      "Artist                     object\n",
      "Release Date               object\n",
      "Spotify Streams             int64\n",
      "Spotify Playlist Reach    float64\n",
      "Spotify Popularity        float64\n",
      "YouTube Views             float64\n",
      "TikTok Posts              float64\n",
      "TikTok Views              float64\n",
      "AirPlay Spins             float64\n",
      "SiriusXM Spins            float64\n",
      "Pandora Streams           float64\n",
      "Soundcloud Streams        float64\n",
      "Shazam Counts             float64\n",
      "dtype: object\n"
     ]
    }
   ],
   "source": [
    "import pandas as pd\n",
    "import re\n",
    "from sqlalchemy import create_engine\n",
    "\n",
    "\n",
    "engine = create_engine('sqlite:///:memory:', echo=False)\n",
    "df = pd.read_csv(r'C:\\Users\\nnnn7\\Documents\\Data Analyst certificate\\Most Streamed Spotify Songs 2024.csv',encoding='unicode_escape')\n",
    "\n",
    "# For answering the queries we need to convert some of the columns from object type to int/float. \n",
    "# We will be doing the conversion using regular expressions\n",
    "def clean_spotify_streams(column):\n",
    "    if isinstance(column, str):\n",
    "        column = re.sub(r'[^\\d]', '', column)\n",
    "    return pd.to_numeric(column, errors='coerce')\n",
    "\n",
    "# Apply the function to clean the desired columns we will be using in the queries\n",
    "columns_to_convert = [\"Spotify Streams\", \"Spotify Playlist Reach\", \"YouTube Views\", \n",
    "                      \"AirPlay Spins\", \"SiriusXM Spins\", \"Pandora Streams\", \n",
    "                      \"Soundcloud Streams\", \"Shazam Counts\", \"TikTok Posts\", \"TikTok Views\"]\n",
    "df[columns_to_convert] = df[columns_to_convert].applymap(clean_spotify_streams)\n",
    "\n",
    "df = df.dropna(subset=columns_to_convert)\n",
    "\n",
    "df.to_sql('spotify_songs', con=engine, index=False, if_exists='replace')\n",
    "\n",
    "# In current project we won't be using all of the columns in the database, so we will delete the excess columns to save space.\n",
    "query_create = '''\n",
    "CREATE TABLE spotify_songs_new AS \n",
    "SELECT Track,\"Album Name\", Artist, \"Release Date\",\n",
    "\"Spotify Streams\", \"Spotify Playlist Reach\", \"Spotify Popularity\",\n",
    "\"YouTube Views\",\"TikTok Posts\",\"TikTok Views\",\"AirPlay Spins\",\n",
    "\"SiriusXM Spins\",\"Pandora Streams\",\"Soundcloud Streams\",\"Shazam Counts\" \n",
    "FROM spotify_songs\n",
    "'''\n",
    "engine.execute(query_create)\n",
    "\n",
    "query_drop_old = 'DROP TABLE spotify_songs'\n",
    "engine.execute(query_drop_old)\n",
    "\n",
    "query_rename_new = 'ALTER TABLE spotify_songs_new RENAME TO spotify_songs'\n",
    "engine.execute(query_rename_new)\n",
    "\n",
    "\n",
    "df_updated = pd.read_sql('spotify_songs', con=engine)\n",
    "\n",
    "# Question 1: Print the first 5 rows to check the data\n",
    "print(df_updated.head())\n",
    "print(df_updated.dtypes)"
   ]
  },
  {
   "cell_type": "code",
   "execution_count": 2,
   "metadata": {},
   "outputs": [
    {
     "name": "stdout",
     "output_type": "stream",
     "text": [
      "                      Track           Artist  Spotify Streams\n",
      "0           Blinding Lights       The Weeknd       4281468720\n",
      "1              Shape of You       Ed Sheeran       3909458734\n",
      "2                   Starboy       The Weeknd       3291262413\n",
      "3              Dance Monkey      Tones And I       3071214106\n",
      "4                  Believer  Imagine Dragons       3006226762\n",
      "5              Lucid Dreams       Juice WRLD       2548389305\n",
      "6                Photograph       Ed Sheeran       2525355904\n",
      "7                   Shallow        Lady Gaga       2447973078\n",
      "8                 The Hills       The Weeknd       2306740926\n",
      "9                    Demons  Imagine Dragons       2270796677\n",
      "10                     SAD!     XXXTENTACION       2218531106\n",
      "11             Cruel Summer     Taylor Swift       2188247133\n",
      "12         The Night We Met       Lord Huron       2097181065\n",
      "13                    Sorry    Justin Bieber       2089476497\n",
      "14  Smells Like Teen Spirit          Nirvana       2021910364\n"
     ]
    }
   ],
   "source": [
    "# Question 2: Name the top 15 titles based on spotify streams\n",
    "\n",
    "query = 'SELECT Track,Artist,\"Spotify Streams\" FROM spotify_songs ORDER BY \"Spotify Streams\" DESC LIMIT 15  '\n",
    "df1 = pd.read_sql(query, con=engine)\n",
    "\n",
    "#query = 'SELECT Track,Artist,\"Spotify Streams\" FROM spotify_songs ORDER BY \"Spotify Streams\" DESC LIMIT 50  '\n",
    "#df1 = pd.read_sql(query, con=engine)\n",
    "#query = 'SELECT Track,Artist,\"Spotify Streams\" FROM spotify_songs ORDER BY \"Spotify Streams\" DESC LIMIT 100 '\n",
    "#df1 = pd.read_sql(query, con=engine)\n",
    "# The above queries are used in question 10\n",
    "print(df1)"
   ]
  },
  {
   "cell_type": "code",
   "execution_count": 3,
   "metadata": {},
   "outputs": [
    {
     "name": "stdout",
     "output_type": "stream",
     "text": [
      "                                             Track  Spotify Streams  \\\n",
      "0                                         Espresso        547882871   \n",
      "1                                  I'm Good (Blue)       1658229422   \n",
      "2                       i like the way you kiss me        601309283   \n",
      "3                               BIRDS OF A FEATHER        214237645   \n",
      "4                                     Cruel Summer       2188247133   \n",
      "5                                            LUNCH        221636195   \n",
      "6                              MILLION DOLLAR BABY        390470936   \n",
      "7                       BAND4BAND (feat. Lil Baby)         90676573   \n",
      "8                    Fortnight (feat. Post Malone)        395433400   \n",
      "9                                      Lovin On Me        670665438   \n",
      "10                                     Not Like Us        323703884   \n",
      "11                                    Stick Season        965865213   \n",
      "12                                          Austin        273023490   \n",
      "13                                 Blinding Lights       4281468720   \n",
      "14                                           Water        670376179   \n",
      "15                                    Shape of You       3909458734   \n",
      "16         Dance The Night - From Barbie The Album        860026452   \n",
      "17  One Of The Girls (with JENNIE, Lily Rose Depp)        939627795   \n",
      "18                            Timber (feat. Ke$ha)       1477150302   \n",
      "19                                           Pepas       1500499584   \n",
      "\n",
      "    Spotify Playlist Reach  \n",
      "0              262343414.0  \n",
      "1              239957538.0  \n",
      "2              211607669.0  \n",
      "3              202626837.0  \n",
      "4              201964859.0  \n",
      "5              197280692.0  \n",
      "6              196631588.0  \n",
      "7              184199419.0  \n",
      "8              177932568.0  \n",
      "9              175421034.0  \n",
      "10             174597137.0  \n",
      "11             169323128.0  \n",
      "12             169190514.0  \n",
      "13             165544011.0  \n",
      "14             150471020.0  \n",
      "15             148037882.0  \n",
      "16             139913794.0  \n",
      "17             127728248.0  \n",
      "18             126126362.0  \n",
      "19             125112486.0  \n"
     ]
    }
   ],
   "source": [
    "# Question 3: Is there a correlation between Spotify Playlist Reach and Spotify streams\n",
    "#Playlist Reach is the total number of followers of all playlists that feature a song from that artist. \n",
    "#So for example if an artist was added to 10 playlists and each playlist had 100,000 followers then the total playlist reach would be 1 million.\n",
    "query = 'SELECT Track ,\"Spotify Streams\", \"Spotify Playlist Reach\" FROM spotify_songs ORDER BY \"Spotify Playlist Reach\" DESC LIMIT 20'\n",
    "result = pd.read_sql(query, con=engine)\n",
    "\n",
    "print(result)\n",
    "\n",
    "# It looks like there is no strong connection between the Playlist Reach and the Spotify Streams"
   ]
  },
  {
   "cell_type": "code",
   "execution_count": 4,
   "metadata": {},
   "outputs": [
    {
     "name": "stdout",
     "output_type": "stream",
     "text": [
      "          Artist  Number of Songs  Total Streams\n",
      "0          Drake               16     7943927023\n",
      "1  Morgan Wallen               13     5351536971\n",
      "2  Billie Eilish               11     6089028623\n",
      "3     The Weeknd               10    18841056275\n",
      "4   Taylor Swift               10     9567910070\n",
      "5            SZA                8     6273245361\n",
      "6     Zach Bryan                7     2753205209\n",
      "7      Bad Bunny                7     4815926651\n",
      "8    Post Malone                6     5014069280\n",
      "9       Rod Wave                5      445112859\n"
     ]
    }
   ],
   "source": [
    "# Question 4: Who are the top 10 artists with the most songs in the Database? \n",
    "query = 'SELECT Artist, COUNT(*) As \"Number of Songs\", SUM(\"Spotify Streams\") AS \"Total Streams\" FROM spotify_songs GROUP BY \"Artist\" ORDER BY \"Number of Songs\" DESC LIMIT 10'\n",
    "result = pd.read_sql(query, con=engine)\n",
    "\n",
    "print(result)"
   ]
  },
  {
   "cell_type": "code",
   "execution_count": 5,
   "metadata": {},
   "outputs": [
    {
     "name": "stdout",
     "output_type": "stream",
     "text": [
      "                Artist                            Album Name  Number of Songs  \\\n",
      "0        Billie Eilish                  HIT ME HARD AND SOFT                5   \n",
      "1  Swedish House Mafia               The Highlights (Deluxe)                4   \n",
      "2                Drake                      For All The Dogs                4   \n",
      "3                  SZA                                   SOS                3   \n",
      "4        Morgan Wallen                   One Thing At A Time                3   \n",
      "5                Drake                   Honestly, Nevermind                3   \n",
      "6        Justin Bieber       Full Circle: The Live Anthology                3   \n",
      "7        Morgan Wallen             3 Songs At A Time Sampler                3   \n",
      "8         Taylor Swift                         1989 (Deluxe)                3   \n",
      "9            Bad Bunny  nadie sabe lo que va a pasar maï¿½ï¿                2   \n",
      "\n",
      "   Total Streams  \n",
      "0      670460206  \n",
      "1     3282782859  \n",
      "2     1156205748  \n",
      "3     3448743135  \n",
      "4      847975698  \n",
      "5     1477765227  \n",
      "6     3890282976  \n",
      "7     1235904352  \n",
      "8     3649016280  \n",
      "9     1167332313  \n"
     ]
    }
   ],
   "source": [
    "# Question 5: What are the top 10 albums with the most songs in the Database? \n",
    "query = 'SELECT Artist,\"Album Name\", COUNT(*) As \"Number of Songs\", SUM(\"Spotify Streams\") AS \"Total Streams\" FROM spotify_songs GROUP BY \"Album Name\" ORDER BY \"Number of Songs\" DESC LIMIT 10'\n",
    "result = pd.read_sql(query, con=engine)\n",
    "\n",
    "print(result)"
   ]
  },
  {
   "cell_type": "code",
   "execution_count": 6,
   "metadata": {},
   "outputs": [
    {
     "name": "stdout",
     "output_type": "stream",
     "text": [
      "                              Track           Artist  \\\n",
      "0                        Photograph       Ed Sheeran   \n",
      "1                            Demons  Imagine Dragons   \n",
      "2           Smells Like Teen Spirit          Nirvana   \n",
      "3                       Blank Space     Taylor Swift   \n",
      "4                          Payphone         Maroon 5   \n",
      "5   All I Want for Christmas Is You     Mariah Carey   \n",
      "6               The Real Slim Shady           Eminem   \n",
      "7      Somebody That I Used To Know            Gotye   \n",
      "8                 What Do You Mean?    Justin Bieber   \n",
      "9              Timber (feat. Ke$ha)          Pitbull   \n",
      "10               Summertime Sadness     Lana Del Rey   \n",
      "11                          Animals         Maroon 5   \n",
      "12    Rather Be (feat. Jess Glynne)     Clean Bandit   \n",
      "13                        Heartless       Kanye West   \n",
      "14                           Ho Hey    The Lumineers   \n",
      "\n",
      "                  Release Date  Spotify Streams  \n",
      "0   2013-01-01 00:00:00.000000       2525355904  \n",
      "1   2012-01-01 00:00:00.000000       2270796677  \n",
      "2   1991-09-24 00:00:00.000000       2021910364  \n",
      "3   2014-01-01 00:00:00.000000       1829733410  \n",
      "4   2012-01-01 00:00:00.000000       1828026153  \n",
      "5   1994-01-01 00:00:00.000000       1810649765  \n",
      "6   2000-01-01 00:00:00.000000       1798020679  \n",
      "7   2011-01-01 00:00:00.000000       1752826514  \n",
      "8   2011-11-20 00:00:00.000000       1599742798  \n",
      "9   2009-01-01 00:00:00.000000       1477150302  \n",
      "10  2011-01-01 00:00:00.000000       1442872605  \n",
      "11  2011-11-20 00:00:00.000000       1365755853  \n",
      "12  2013-01-01 00:00:00.000000       1327093253  \n",
      "13  2008-01-01 00:00:00.000000       1315577954  \n",
      "14  2012-01-01 00:00:00.000000       1273869800  \n"
     ]
    }
   ],
   "source": [
    "# Question 6: What are the top 15 songs which has been released more than 10 years ago that are still trending? \n",
    "#First we need to conver the \"Release date\" to date time format \n",
    "\n",
    "df[\"Release Date\"] = pd.to_datetime(df[\"Release Date\"], errors='coerce')\n",
    "\n",
    "engine = create_engine('sqlite:///:memory:', echo=False)\n",
    "\n",
    "df.to_sql('spotify_songs', con=engine, index=False, if_exists='replace')\n",
    "\n",
    "query = 'SELECT Track,Artist,\"Release Date\",\"Spotify Streams\" FROM spotify_songs WHERE \"Release Date\" <= \"2014-07-16\" ORDER BY \"Spotify Streams\" DESC LIMIT 15'\n",
    "df2 = pd.read_sql(query, con=engine)\n",
    "\n",
    "print(df2)"
   ]
  },
  {
   "cell_type": "code",
   "execution_count": 7,
   "metadata": {},
   "outputs": [
    {
     "name": "stdout",
     "output_type": "stream",
     "text": [
      "                              Track         Artist  \\\n",
      "0   All I Want for Christmas Is You   Mariah Carey   \n",
      "1                        Photograph     Ed Sheeran   \n",
      "2                          Firework     Katy Perry   \n",
      "3     Rather Be (feat. Jess Glynne)   Clean Bandit   \n",
      "4                       Promiscuous  Nelly Furtado   \n",
      "5              Timber (feat. Ke$ha)        Pitbull   \n",
      "6                Turn Down for What       DJ Snake   \n",
      "7          I Knew You Were Trouble.   Taylor Swift   \n",
      "8                Sexy And I Know It          LMFAO   \n",
      "9                           Animals       Maroon 5   \n",
      "10                         Worth It  Fifth Harmony   \n",
      "11               Summertime Sadness   Lana Del Rey   \n",
      "12                       Candy Shop        50 Cent   \n",
      "13     Somebody That I Used To Know          Gotye   \n",
      "14              Young And Beautiful   Lana Del Rey   \n",
      "\n",
      "                  Release Date  TikTok Posts  TikTok Views  \n",
      "0   1994-01-01 00:00:00.000000    18894720.0  1.596313e+10  \n",
      "1   2013-01-01 00:00:00.000000     1459274.0  4.406781e+09  \n",
      "2   2010-01-01 00:00:00.000000     1219259.0  6.860498e+08  \n",
      "3   2013-01-01 00:00:00.000000     1072310.0  1.196197e+09  \n",
      "4   2006-01-01 00:00:00.000000     1041808.0  1.795502e+09  \n",
      "5   2009-01-01 00:00:00.000000     1011744.0  1.166624e+09  \n",
      "6   2013-12-18 00:00:00.000000      962796.0  1.943094e+09  \n",
      "7   2012-01-01 00:00:00.000000      762018.0  4.888293e+07  \n",
      "8   2011-01-01 00:00:00.000000      652850.0  9.276604e+08  \n",
      "9   2011-11-20 00:00:00.000000      632606.0  6.940032e+08  \n",
      "10  2014-01-01 00:00:00.000000      494040.0  1.277992e+09  \n",
      "11  2011-01-01 00:00:00.000000      423666.0  1.549975e+09  \n",
      "12  2005-01-01 00:00:00.000000      313458.0  9.509386e+08  \n",
      "13  2011-01-01 00:00:00.000000      312945.0  4.679645e+09  \n",
      "14  2013-01-01 00:00:00.000000      301881.0  8.819377e+08  \n"
     ]
    }
   ],
   "source": [
    "# Question 7: Is there a connection between older songs still trending on Spotify and TikTok Posts of those songs? \n",
    "query = 'SELECT Track,Artist,\"Release Date\",\"TikTok Posts\",\"TikTok Views\" FROM spotify_songs WHERE \"Release Date\" <= \"2014-07-16\" ORDER BY \"TikTok Posts\" DESC LIMIT 15'\n",
    "df3 = pd.read_sql(query, con=engine)\n",
    "\n",
    "print(df3)"
   ]
  },
  {
   "cell_type": "code",
   "execution_count": 8,
   "metadata": {},
   "outputs": [
    {
     "name": "stdout",
     "output_type": "stream",
     "text": [
      "                             Track\n",
      "0                       Photograph\n",
      "1  All I Want for Christmas Is You\n",
      "2     Somebody That I Used To Know\n",
      "3             Timber (feat. Ke$ha)\n",
      "4               Summertime Sadness\n",
      "5                          Animals\n",
      "6    Rather Be (feat. Jess Glynne)\n"
     ]
    }
   ],
   "source": [
    "common_tracks = pd.merge(df2, df3, on='Track', suffixes=('Spotify', 'TikTok'))\n",
    "print(common_tracks[['Track']])\n",
    "# When combining queries 6&7, there seems to be a correlation between the two. 7 out of 15 (46%!) \"not so new songs\" that are still trending in 2024 are also in the list of the most trending 10 year old+ songs on TikTok."
   ]
  },
  {
   "cell_type": "code",
   "execution_count": 9,
   "metadata": {},
   "outputs": [
    {
     "name": "stdout",
     "output_type": "stream",
     "text": [
      "                              Track\n",
      "0                        Photograph\n",
      "1                            Demons\n",
      "2           Smells Like Teen Spirit\n",
      "3   All I Want for Christmas Is You\n",
      "4      Somebody That I Used To Know\n",
      "5              Timber (feat. Ke$ha)\n",
      "6                Summertime Sadness\n",
      "7                           Animals\n",
      "8     Rather Be (feat. Jess Glynne)\n",
      "9               Young And Beautiful\n",
      "10                      Promiscuous\n",
      "11                         Firework\n",
      "12                            Latch\n"
     ]
    }
   ],
   "source": [
    "#To verify our findings, I ran the same queries in different limits of operation (25 songs and 50 songs) to see if the results show the same upward trend\n",
    "#25 songs\n",
    "query = 'SELECT Track,Artist,\"Release Date\",\"Spotify Streams\" FROM spotify_songs WHERE \"Release Date\" <= \"2014-07-16\" ORDER BY \"Spotify Streams\" DESC LIMIT 25'\n",
    "df2 = pd.read_sql(query, con=engine)\n",
    "query = 'SELECT Track,Artist,\"Release Date\",\"TikTok Posts\",\"TikTok Views\" FROM spotify_songs WHERE \"Release Date\" <= \"2014-07-16\" ORDER BY \"TikTok Posts\" DESC LIMIT 25'\n",
    "df3 = pd.read_sql(query, con=engine)\n",
    "common_tracks = pd.merge(df2, df3, on='Track')\n",
    "print(common_tracks[['Track']])\n",
    "#The correlation is sligtly increased to 13/25 (52%), findings that can verify the connection between the two."
   ]
  },
  {
   "cell_type": "code",
   "execution_count": 10,
   "metadata": {},
   "outputs": [
    {
     "name": "stdout",
     "output_type": "stream",
     "text": [
      "                              Track\n",
      "0                        Photograph\n",
      "1                            Demons\n",
      "2           Smells Like Teen Spirit\n",
      "3                       Blank Space\n",
      "4                          Payphone\n",
      "5   All I Want for Christmas Is You\n",
      "6               The Real Slim Shady\n",
      "7      Somebody That I Used To Know\n",
      "8                 What Do You Mean?\n",
      "9              Timber (feat. Ke$ha)\n",
      "10               Summertime Sadness\n",
      "11                          Animals\n",
      "12    Rather Be (feat. Jess Glynne)\n",
      "13                        Heartless\n",
      "14                           Ho Hey\n",
      "15              Young And Beautiful\n",
      "16                           Royals\n",
      "17                            Style\n",
      "18                        Let It Go\n",
      "19                      Promiscuous\n",
      "20                         Firework\n",
      "21                       Just Dance\n",
      "22                            Latch\n",
      "23                    We Can't Stop\n",
      "24         You're Gonna Go Far, Kid\n",
      "25                       Am I Wrong\n",
      "26                       Candy Shop\n",
      "27                          Bound 2\n",
      "28                            Blame\n",
      "29                    Elastic Heart\n",
      "30                   One More Night\n",
      "31                          Dilemma\n",
      "32                    The Way I Are\n",
      "33        DJ Got Us Fallin' In Love\n",
      "34         I Knew You Were Trouble.\n",
      "35         Day 'N' Nite (nightmare)\n",
      "36                         Worth It\n",
      "37                        Love Sosa\n",
      "38            Chamber Of Reflection\n",
      "39                      Wagon Wheel\n",
      "40                            Fancy\n",
      "41                 Feel This Moment\n",
      "42                        Bad Blood\n",
      "43               Turn Down for What\n",
      "44                            Limbo\n",
      "45                      Ex's & Oh's\n",
      "46          Bangarang (feat. Sirah)\n",
      "47   Country Girl (Shake It For Me)\n"
     ]
    }
   ],
   "source": [
    "#50 songs\n",
    "query = 'SELECT Track,Artist,\"Release Date\",\"Spotify Streams\" FROM spotify_songs WHERE \"Release Date\" <= \"2014-07-16\" ORDER BY \"Spotify Streams\" DESC LIMIT 50'\n",
    "df2 = pd.read_sql(query, con=engine)\n",
    "query = 'SELECT Track,Artist,\"Release Date\",\"TikTok Posts\",\"TikTok Views\" FROM spotify_songs WHERE \"Release Date\" <= \"2014-07-16\" ORDER BY \"TikTok Posts\" DESC LIMIT 50'\n",
    "df3 = pd.read_sql(query, con=engine)\n",
    "common_tracks = pd.merge(df2, df3, on='Track')\n",
    "print(common_tracks[['Track']])\n",
    "#The correlation drasticly climbed to 48/50 (96%), confirming the first assumption on the association and proving there is a strong linear correspondence between the two categories.\n",
    "#From the last queries we can safely deduce that an enhanced exposure to songs on one of the social media platforms (in this case TikTok) can influence the ratings of the track in other platforms."
   ]
  },
  {
   "cell_type": "code",
   "execution_count": 11,
   "metadata": {},
   "outputs": [
    {
     "name": "stdout",
     "output_type": "stream",
     "text": [
      "                                      Track           Artist  Shazam Counts\n",
      "0                              Dance Monkey      Tones And I     44842636.0\n",
      "1              Somebody That I Used To Know            Gotye     37339828.0\n",
      "2                           Blinding Lights       The Weeknd     28994660.0\n",
      "3                                     Faded      Alan Walker     26821494.0\n",
      "4             Rather Be (feat. Jess Glynne)     Clean Bandit     25620314.0\n",
      "5   Rockabye (feat. Sean Paul & Anne-Marie)     Clean Bandit     23696980.0\n",
      "6                                 Calm Down             Rema     22563407.0\n",
      "7                                  Believer  Imagine Dragons     21306706.0\n",
      "8                                Am I Wrong      Nico & Vinz     19231875.0\n",
      "9                         Sign of the Times     Harry Styles     18327076.0\n",
      "10                                   Demons  Imagine Dragons     18161724.0\n",
      "11                                   Ho Hey    The Lumineers     17971225.0\n",
      "12                                    Pepas          Farruko     17210946.0\n",
      "13                                The Hills       The Weeknd     17199384.0\n",
      "14                               Photograph       Ed Sheeran     17163765.0\n"
     ]
    }
   ],
   "source": [
    "# Question 8: What are the top 15 \"Shazamed\" tracks? \n",
    "query = 'SELECT Track,Artist,\"Shazam Counts\" FROM spotify_songs ORDER BY \"Shazam Counts\" DESC LIMIT 15'\n",
    "df4 = pd.read_sql(query, con=engine)\n",
    "\n",
    "print(df4)"
   ]
  },
  {
   "cell_type": "code",
   "execution_count": null,
   "metadata": {},
   "outputs": [],
   "source": [
    "# After Comparison with the results of query #1 we have 6/15 (40%) of the most \"Shazamed\" songs in the top 15 tracks with max spotify streams.\n",
    "shazamed_tracks = pd.merge(df1, df4, on='Track')\n",
    "print(shazamed_tracks[['Track']])"
   ]
  },
  {
   "cell_type": "code",
   "execution_count": null,
   "metadata": {},
   "outputs": [],
   "source": [
    "#25 songs\n",
    "query = 'SELECT Track,Artist,\"Shazam Counts\" FROM spotify_songs ORDER BY \"Shazam Counts\" DESC LIMIT 25'\n",
    "df4 = pd.read_sql(query, con=engine)\n",
    "shazamed_tracks = pd.merge(df1, df4, on='Track', suffixes=('Spotify', 'Shazam'))\n",
    "print(shazamed_tracks[['Track']])\n",
    "# From expanding the borders of the query,we can verify the incline not only haven't been linearly growing(now only 7/25 songs 28%) but took quiet a descent.\n",
    "# So in terms of trends, trending songs are not the ones with the most Shazam counts, even when they're the most heard.\n",
    "# For me the result comes as counter intuitive, because my assumption was that more trending songs will be the most \"Shazamed\" ones, priorly due to the previous query about the TikTok trending old songs being proved with a strong correlation."
   ]
  },
  {
   "cell_type": "code",
   "execution_count": null,
   "metadata": {},
   "outputs": [],
   "source": [
    "# Question 9: List all the Streaming platforms according to their total streams \n",
    "query = '''SELECT\n",
    "'Spotify Streams' AS Platform, SUM(\"Spotify Streams\") AS TotalStreams\n",
    "FROM spotify_songs\n",
    "UNION\n",
    "SELECT \n",
    "    'Youtube Views' AS Platform, SUM(\"Youtube Views\") AS TotalStreams \n",
    "FROM spotify_songs\n",
    "UNION\n",
    "SELECT \n",
    "    'AirPlay Spins' AS Platform, SUM(\"AirPlay Spins\") AS TotalStreams \n",
    "FROM spotify_songs\n",
    "UNION\n",
    "SELECT \n",
    "    'SiriusXM Spins' AS Platform, SUM(\"SiriusXM Spins\") AS TotalStreams \n",
    "FROM spotify_songs\n",
    "UNION\n",
    "SELECT \n",
    "    'Pandora Streams' AS Platform, SUM(\"Pandora Streams\") AS TotalStreams \n",
    "FROM spotify_songs\n",
    "UNION\n",
    "SELECT \n",
    "    'Soundcloud Streams' AS Platform, SUM(\"Soundcloud Streams\") AS TotalStreams \n",
    "FROM spotify_songs\n",
    "ORDER BY TotalStreams DESC '''\n",
    "result = pd.read_sql(query, con=engine)\n",
    "\n",
    "print(result)"
   ]
  },
  {
   "cell_type": "code",
   "execution_count": null,
   "metadata": {},
   "outputs": [],
   "source": [
    "# Question 10: Top 15 Songs in all of the platforms combined\n",
    "query = '''SELECT \n",
    "    Track,Artist,(\"Spotify Streams\" + \"Youtube Views\" + \"AirPlay Spins\" + \"Sirius XM Spins\" + \n",
    "     \"Pandora Streams\" + \"Soundcloud Streams\") AS Total_Streams\n",
    "FROM (SELECT * FROM spotify_songs ORDER BY (\"Spotify Streams\" + \"Youtube Views\" + \"AirPlay Spins\" + \n",
    "     \"Sirius XM Spins\" + \"Pandora Streams\" + \"Soundcloud Streams\") DESC LIMIT 15)\n",
    "'''\n",
    "\n",
    "#query = '''SELECT \n",
    "    #Track,Artist,(\"Spotify Streams\" + \"Youtube Views\" + \"AirPlay Spins\" + \"Sirius XM Spins\" + \n",
    "     #\"Pandora Streams\" + \"Soundcloud Streams\") AS Total_Streams\n",
    "#FROM (SELECT * FROM spotify_songs ORDER BY (\"Spotify Streams\" + \"Youtube Views\" + \"AirPlay Spins\" + \n",
    "     #\"Sirius XM Spins\" + \"Pandora Streams\" + \"Soundcloud Streams\") DESC LIMIT 50)\n",
    "#'''\n",
    "#query = '''SELECT \n",
    "    #Track,Artist,(\"Spotify Streams\" + \"Youtube Views\" + \"AirPlay Spins\" + \"Sirius XM Spins\" + \n",
    "     #\"Pandora Streams\" + \"Soundcloud Streams\") AS Total_Streams\n",
    "#FROM (SELECT * FROM spotify_songs ORDER BY (\"Spotify Streams\" + \"Youtube Views\" + \"AirPlay Spins\" + \n",
    "     #\"Sirius XM Spins\" + \"Pandora Streams\" + \"Soundcloud Streams\") DESC LIMIT 100)\n",
    "#'''\n",
    "#The above queries are for the final conclusion statistics.\n",
    "df5 = pd.read_sql(query, con=engine)\n",
    "\n",
    "print(df5)"
   ]
  },
  {
   "cell_type": "code",
   "execution_count": null,
   "metadata": {},
   "outputs": [],
   "source": [
    "most_heard_tracks = pd.merge(df1, df5, on='Track')\n",
    "print(most_heard_tracks[['Track']])\n",
    "#10/15(66%) track relation between spotify and all time most heard songs. When we're expending the search for 50 songs limit, the correlation goes up to 74%. When the expansion goes to 100 tracks, the correlation still on 74%. \n",
    "#The conclusion: The most trending tracks on Spotify have a nearly 3/4 chance to be the most trending track in all of the platforms."
   ]
  },
  {
   "cell_type": "code",
   "execution_count": null,
   "metadata": {},
   "outputs": [],
   "source": []
  }
 ],
 "metadata": {
  "kernelspec": {
   "display_name": "Python 3",
   "language": "python",
   "name": "python3"
  },
  "language_info": {
   "codemirror_mode": {
    "name": "ipython",
    "version": 3
   },
   "file_extension": ".py",
   "mimetype": "text/x-python",
   "name": "python",
   "nbconvert_exporter": "python",
   "pygments_lexer": "ipython3",
   "version": "3.7.6"
  }
 },
 "nbformat": 4,
 "nbformat_minor": 4
}
